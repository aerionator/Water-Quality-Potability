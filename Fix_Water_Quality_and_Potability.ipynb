{
  "cells": [
    {
      "cell_type": "markdown",
      "metadata": {
        "colab_type": "text",
        "id": "view-in-github"
      },
      "source": [
        "<a href=\"https://colab.research.google.com/github/aerionator/Water-Quality-Potability/blob/main/Fix_Water_Quality_and_Potability.ipynb\" target=\"_parent\"><img src=\"https://colab.research.google.com/assets/colab-badge.svg\" alt=\"Open In Colab\"/></a>"
      ]
    },
    {
      "cell_type": "markdown",
      "metadata": {
        "id": "1jDMguzWVE3-"
      },
      "source": [
        "# <center> Water Quality and Potability Case-study"
      ]
    },
    {
      "cell_type": "markdown",
      "metadata": {
        "id": "GJiHUnJMVE4D"
      },
      "source": [
        "### This dataset is valuable for water quality assessment, water treatment planning, and ensuring the safety of drinking water supplies. It can be utilized by water treatment plants, environmental agencies, and researchers to make data-driven decisions regarding water quality and potability.\n"
      ]
    },
    {
      "cell_type": "markdown",
      "metadata": {
        "id": "5HrxMS08VE4E"
      },
      "source": [
        "# Required libraries"
      ]
    },
    {
      "cell_type": "code",
      "execution_count": null,
      "metadata": {
        "_cell_guid": "b1076dfc-b9ad-4769-8c92-a6c4dae69d19",
        "_uuid": "8f2839f25d086af736a60e9eeb907d3b93b6e0e5",
        "execution": {
          "iopub.execute_input": "2023-09-05T16:23:52.125054Z",
          "iopub.status.busy": "2023-09-05T16:23:52.124606Z",
          "iopub.status.idle": "2023-09-05T16:23:52.133136Z",
          "shell.execute_reply": "2023-09-05T16:23:52.131706Z",
          "shell.execute_reply.started": "2023-09-05T16:23:52.125019Z"
        },
        "id": "ByDB0D_iVE4F",
        "trusted": true
      },
      "outputs": [],
      "source": [
        "import numpy as np\n",
        "import pandas as pd\n",
        "import matplotlib.pyplot as plt\n",
        "import seaborn as sns\n",
        "from sklearn.impute import SimpleImputer\n",
        "from sklearn.preprocessing import MinMaxScaler\n",
        "from sklearn.model_selection import train_test_split, GridSearchCV\n",
        "from sklearn.linear_model import LogisticRegression\n",
        "from sklearn.tree import DecisionTreeClassifier\n",
        "from sklearn.svm import SVC\n",
        "from sklearn.ensemble import RandomForestClassifier\n",
        "from xgboost import XGBClassifier\n",
        "from sklearn.metrics import confusion_matrix, classification_report\n",
        "from keras.models import Sequential\n",
        "from keras.layers import Dense\n",
        "from keras.callbacks import EarlyStopping\n"
      ]
    },
    {
      "cell_type": "markdown",
      "metadata": {
        "id": "950eJQ-dVE4G"
      },
      "source": [
        "# Loading Data"
      ]
    },
    {
      "cell_type": "code",
      "execution_count": null,
      "metadata": {
        "execution": {
          "iopub.execute_input": "2023-09-05T14:14:41.225933Z",
          "iopub.status.busy": "2023-09-05T14:14:41.225542Z",
          "iopub.status.idle": "2023-09-05T14:14:41.257307Z",
          "shell.execute_reply": "2023-09-05T14:14:41.256002Z",
          "shell.execute_reply.started": "2023-09-05T14:14:41.225903Z"
        },
        "id": "4UDJY81dVE4H",
        "trusted": true
      },
      "outputs": [],
      "source": [
        "df_water_quality = pd.read_csv('/content/drive/MyDrive/archive/water_potability.csv')"
      ]
    },
    {
      "cell_type": "code",
      "execution_count": null,
      "metadata": {
        "colab": {
          "base_uri": "https://localhost:8080/"
        },
        "id": "8-XtqzNSVOka",
        "outputId": "5af7a4db-17f9-4c99-e92b-89cf15a0a8b9"
      },
      "outputs": [],
      "source": [
        "from google.colab import drive\n",
        "drive.mount('/content/drive')"
      ]
    },
    {
      "cell_type": "markdown",
      "metadata": {
        "id": "DQ0E9JnYVE4H"
      },
      "source": [
        "# Data Wrangling"
      ]
    },
    {
      "cell_type": "code",
      "execution_count": null,
      "metadata": {
        "colab": {
          "base_uri": "https://localhost:8080/",
          "height": 206
        },
        "execution": {
          "iopub.execute_input": "2023-09-05T14:14:42.350230Z",
          "iopub.status.busy": "2023-09-05T14:14:42.349825Z",
          "iopub.status.idle": "2023-09-05T14:14:42.370590Z",
          "shell.execute_reply": "2023-09-05T14:14:42.369235Z",
          "shell.execute_reply.started": "2023-09-05T14:14:42.350199Z"
        },
        "id": "bExlRK53VE4I",
        "outputId": "5dfeede6-ff6e-4db0-bcb5-75e4c4f70690",
        "trusted": true
      },
      "outputs": [],
      "source": [
        "df_water_quality.head()"
      ]
    },
    {
      "cell_type": "code",
      "execution_count": null,
      "metadata": {
        "colab": {
          "base_uri": "https://localhost:8080/",
          "height": 300
        },
        "execution": {
          "iopub.execute_input": "2023-09-05T14:14:42.736817Z",
          "iopub.status.busy": "2023-09-05T14:14:42.736123Z",
          "iopub.status.idle": "2023-09-05T14:14:42.784549Z",
          "shell.execute_reply": "2023-09-05T14:14:42.783298Z",
          "shell.execute_reply.started": "2023-09-05T14:14:42.736781Z"
        },
        "id": "9iLTcXu0VE4I",
        "outputId": "78b6202b-8c8b-4566-bad8-68f7cc2fd4f2",
        "trusted": true
      },
      "outputs": [],
      "source": [
        "df_water_quality.describe()"
      ]
    },
    {
      "cell_type": "code",
      "execution_count": null,
      "metadata": {
        "colab": {
          "base_uri": "https://localhost:8080/"
        },
        "execution": {
          "iopub.execute_input": "2023-09-05T14:12:17.705144Z",
          "iopub.status.busy": "2023-09-05T14:12:17.703704Z",
          "iopub.status.idle": "2023-09-05T14:12:17.717207Z",
          "shell.execute_reply": "2023-09-05T14:12:17.715881Z",
          "shell.execute_reply.started": "2023-09-05T14:12:17.705092Z"
        },
        "id": "wSyqxLCdVE4J",
        "outputId": "9cd45a7b-e241-4a1a-f867-e3140f8e3b29",
        "trusted": true
      },
      "outputs": [],
      "source": [
        "df_water_quality.isna().sum()"
      ]
    },
    {
      "cell_type": "code",
      "execution_count": null,
      "metadata": {
        "colab": {
          "base_uri": "https://localhost:8080/"
        },
        "execution": {
          "iopub.execute_input": "2023-09-05T14:20:03.859717Z",
          "iopub.status.busy": "2023-09-05T14:20:03.859237Z",
          "iopub.status.idle": "2023-09-05T14:20:03.869803Z",
          "shell.execute_reply": "2023-09-05T14:20:03.868364Z",
          "shell.execute_reply.started": "2023-09-05T14:20:03.859684Z"
        },
        "id": "8C7in5YEVE4J",
        "outputId": "7008312d-d362-4576-8939-2e5b7d64e2b3",
        "trusted": true
      },
      "outputs": [],
      "source": [
        "df_water_quality.shape"
      ]
    },
    {
      "cell_type": "code",
      "execution_count": null,
      "metadata": {
        "execution": {
          "iopub.execute_input": "2023-09-05T14:19:50.616423Z",
          "iopub.status.busy": "2023-09-05T14:19:50.615838Z",
          "iopub.status.idle": "2023-09-05T14:19:50.629863Z",
          "shell.execute_reply": "2023-09-05T14:19:50.628601Z",
          "shell.execute_reply.started": "2023-09-05T14:19:50.616377Z"
        },
        "id": "_QjAhPOGVE4J",
        "trusted": true
      },
      "outputs": [],
      "source": [
        "imputer = SimpleImputer(missing_values = np.nan, strategy = 'mean')\n",
        "imputed_values = imputer.fit_transform(df_water_quality)"
      ]
    },
    {
      "cell_type": "code",
      "execution_count": null,
      "metadata": {
        "execution": {
          "iopub.execute_input": "2023-09-05T14:22:11.177061Z",
          "iopub.status.busy": "2023-09-05T14:22:11.176666Z",
          "iopub.status.idle": "2023-09-05T14:22:11.184167Z",
          "shell.execute_reply": "2023-09-05T14:22:11.182734Z",
          "shell.execute_reply.started": "2023-09-05T14:22:11.177034Z"
        },
        "id": "zEJzZOlgVE4J",
        "trusted": true
      },
      "outputs": [],
      "source": [
        "df_water_quality_imputed = pd.DataFrame(columns = list(df_water_quality.columns), data = imputed_values)"
      ]
    },
    {
      "cell_type": "code",
      "execution_count": null,
      "metadata": {
        "colab": {
          "base_uri": "https://localhost:8080/",
          "height": 206
        },
        "execution": {
          "iopub.execute_input": "2023-09-05T14:22:20.515373Z",
          "iopub.status.busy": "2023-09-05T14:22:20.514928Z",
          "iopub.status.idle": "2023-09-05T14:22:20.536162Z",
          "shell.execute_reply": "2023-09-05T14:22:20.534983Z",
          "shell.execute_reply.started": "2023-09-05T14:22:20.515311Z"
        },
        "id": "6J6w6By2VE4K",
        "outputId": "c8e1941b-b1ca-41c7-87c6-631bb765e3e5",
        "trusted": true
      },
      "outputs": [],
      "source": [
        "df_water_quality_imputed.head()"
      ]
    },
    {
      "cell_type": "code",
      "execution_count": null,
      "metadata": {
        "colab": {
          "base_uri": "https://localhost:8080/"
        },
        "execution": {
          "iopub.execute_input": "2023-09-05T14:22:40.902351Z",
          "iopub.status.busy": "2023-09-05T14:22:40.901954Z",
          "iopub.status.idle": "2023-09-05T14:22:40.913042Z",
          "shell.execute_reply": "2023-09-05T14:22:40.911256Z",
          "shell.execute_reply.started": "2023-09-05T14:22:40.902307Z"
        },
        "id": "eLvazflUVE4K",
        "outputId": "392d4a52-9d49-4a1e-add5-e5ceff3659b8",
        "trusted": true
      },
      "outputs": [],
      "source": [
        "df_water_quality_imputed.isna().sum()"
      ]
    },
    {
      "cell_type": "markdown",
      "metadata": {
        "id": "FtVS2AmFVE4K"
      },
      "source": [
        "# Exploratory Data Analysis"
      ]
    },
    {
      "cell_type": "code",
      "execution_count": null,
      "metadata": {
        "colab": {
          "base_uri": "https://localhost:8080/",
          "height": 455
        },
        "execution": {
          "iopub.execute_input": "2023-09-05T14:35:38.953377Z",
          "iopub.status.busy": "2023-09-05T14:35:38.952994Z",
          "iopub.status.idle": "2023-09-05T14:35:39.193651Z",
          "shell.execute_reply": "2023-09-05T14:35:39.191568Z",
          "shell.execute_reply.started": "2023-09-05T14:35:38.953347Z"
        },
        "id": "TtMCxJITVE4K",
        "outputId": "8ac455c4-44ea-4540-b56e-13973ef9cc77",
        "trusted": true
      },
      "outputs": [],
      "source": [
        "df_water_quality_imputed['Potability'].value_counts().plot(kind = 'bar')"
      ]
    },
    {
      "cell_type": "markdown",
      "metadata": {
        "id": "noWh_UZoVE4L"
      },
      "source": [
        "## Data Normalization"
      ]
    },
    {
      "cell_type": "code",
      "execution_count": null,
      "metadata": {
        "execution": {
          "iopub.execute_input": "2023-09-05T15:53:55.067097Z",
          "iopub.status.busy": "2023-09-05T15:53:55.066159Z",
          "iopub.status.idle": "2023-09-05T15:53:55.073776Z",
          "shell.execute_reply": "2023-09-05T15:53:55.072122Z",
          "shell.execute_reply.started": "2023-09-05T15:53:55.067038Z"
        },
        "id": "5p6ZPEyxVE4L",
        "trusted": true
      },
      "outputs": [],
      "source": [
        "min_ratio = df_water_quality_imputed['Potability'].value_counts().min()"
      ]
    },
    {
      "cell_type": "code",
      "execution_count": null,
      "metadata": {
        "execution": {
          "iopub.execute_input": "2023-09-05T15:58:49.456424Z",
          "iopub.status.busy": "2023-09-05T15:58:49.455883Z",
          "iopub.status.idle": "2023-09-05T15:58:49.467064Z",
          "shell.execute_reply": "2023-09-05T15:58:49.465760Z",
          "shell.execute_reply.started": "2023-09-05T15:58:49.456384Z"
        },
        "id": "H-pftP3bVE4L",
        "trusted": true
      },
      "outputs": [],
      "source": [
        "df_water_quality_imputed_0 = df_water_quality_imputed[df_water_quality_imputed['Potability'] == 0].sample(min_ratio, replace = True)\n",
        "df_water_quality_imputed_1 = df_water_quality_imputed[df_water_quality_imputed['Potability'] == 1]\n",
        "df_water_quality_imputed_balanced = pd.concat([df_water_quality_imputed_0, df_water_quality_imputed_1])"
      ]
    },
    {
      "cell_type": "code",
      "execution_count": null,
      "metadata": {
        "colab": {
          "base_uri": "https://localhost:8080/",
          "height": 455
        },
        "execution": {
          "iopub.execute_input": "2023-09-05T15:59:15.719952Z",
          "iopub.status.busy": "2023-09-05T15:59:15.719472Z",
          "iopub.status.idle": "2023-09-05T15:59:15.960388Z",
          "shell.execute_reply": "2023-09-05T15:59:15.959278Z",
          "shell.execute_reply.started": "2023-09-05T15:59:15.719910Z"
        },
        "id": "XpWNAlOjVE4L",
        "outputId": "ecb1a160-8509-44c5-8128-990fa426552d",
        "trusted": true
      },
      "outputs": [],
      "source": [
        "df_water_quality_imputed_balanced['Potability'].value_counts().plot(kind = 'bar')"
      ]
    },
    {
      "cell_type": "code",
      "execution_count": null,
      "metadata": {
        "colab": {
          "base_uri": "https://localhost:8080/",
          "height": 569
        },
        "execution": {
          "iopub.execute_input": "2023-09-05T15:58:59.166268Z",
          "iopub.status.busy": "2023-09-05T15:58:59.165879Z",
          "iopub.status.idle": "2023-09-05T15:58:59.907218Z",
          "shell.execute_reply": "2023-09-05T15:58:59.906248Z",
          "shell.execute_reply.started": "2023-09-05T15:58:59.166239Z"
        },
        "id": "9o18I_L-VE4L",
        "outputId": "fcbf389d-7fb8-43fe-ce59-47dcca8bcbc2",
        "trusted": true
      },
      "outputs": [],
      "source": [
        "plt.figure(figsize=(10,5))\n",
        "sns.heatmap(df_water_quality_imputed_balanced.corr(), annot = True)"
      ]
    },
    {
      "cell_type": "code",
      "execution_count": null,
      "metadata": {
        "colab": {
          "base_uri": "https://localhost:8080/",
          "height": 624
        },
        "execution": {
          "iopub.execute_input": "2023-09-05T15:59:26.853861Z",
          "iopub.status.busy": "2023-09-05T15:59:26.853470Z",
          "iopub.status.idle": "2023-09-05T15:59:27.752726Z",
          "shell.execute_reply": "2023-09-05T15:59:27.751507Z",
          "shell.execute_reply.started": "2023-09-05T15:59:26.853831Z"
        },
        "id": "oTG1QgXfVE4L",
        "outputId": "75bd5483-0264-44b1-b5c2-e9a94e88949f",
        "trusted": true
      },
      "outputs": [],
      "source": [
        "sns.jointplot(x = 'ph', y = 'Hardness', data = df_water_quality_imputed_balanced, kind = \"hex\")"
      ]
    },
    {
      "cell_type": "code",
      "execution_count": null,
      "metadata": {
        "colab": {
          "base_uri": "https://localhost:8080/",
          "height": 624
        },
        "execution": {
          "iopub.execute_input": "2023-09-05T15:59:33.567440Z",
          "iopub.status.busy": "2023-09-05T15:59:33.567025Z",
          "iopub.status.idle": "2023-09-05T15:59:34.574245Z",
          "shell.execute_reply": "2023-09-05T15:59:34.572944Z",
          "shell.execute_reply.started": "2023-09-05T15:59:33.567408Z"
        },
        "id": "XSdrzbs4VE4L",
        "outputId": "c88bd6ce-d291-49ba-8eaa-73ca5da1f6fe",
        "trusted": true
      },
      "outputs": [],
      "source": [
        "sns.jointplot(x = 'ph', y = 'Sulfate', data = df_water_quality_imputed_balanced, kind = \"hex\")"
      ]
    },
    {
      "cell_type": "code",
      "execution_count": null,
      "metadata": {
        "colab": {
          "base_uri": "https://localhost:8080/",
          "height": 467
        },
        "execution": {
          "iopub.execute_input": "2023-09-05T15:59:41.206421Z",
          "iopub.status.busy": "2023-09-05T15:59:41.206000Z",
          "iopub.status.idle": "2023-09-05T15:59:41.687625Z",
          "shell.execute_reply": "2023-09-05T15:59:41.686401Z",
          "shell.execute_reply.started": "2023-09-05T15:59:41.206390Z"
        },
        "id": "Br4TONtIVE4M",
        "outputId": "a41fdff9-2c63-4304-b7f7-0156c21d43ce",
        "trusted": true
      },
      "outputs": [],
      "source": [
        "sns.scatterplot(x = 'Organic_carbon', y = 'ph', data = df_water_quality_imputed_balanced, hue = 'Potability'  )"
      ]
    },
    {
      "cell_type": "markdown",
      "metadata": {
        "id": "xHYc9yXDVE4M"
      },
      "source": [
        "# Data Preprocessing"
      ]
    },
    {
      "cell_type": "code",
      "execution_count": null,
      "metadata": {
        "execution": {
          "iopub.execute_input": "2023-09-05T15:59:58.848693Z",
          "iopub.status.busy": "2023-09-05T15:59:58.848297Z",
          "iopub.status.idle": "2023-09-05T15:59:58.858463Z",
          "shell.execute_reply": "2023-09-05T15:59:58.857564Z",
          "shell.execute_reply.started": "2023-09-05T15:59:58.848664Z"
        },
        "id": "7gDWb7FYVE4M",
        "trusted": true
      },
      "outputs": [],
      "source": [
        "scaler = MinMaxScaler()\n",
        "df_scaled_vales = scaler.fit_transform(df_water_quality_imputed_balanced)\n",
        "df_water_quality_scaled = pd.DataFrame(columns = list(df_water_quality.columns), data = df_scaled_vales)"
      ]
    },
    {
      "cell_type": "code",
      "execution_count": null,
      "metadata": {
        "colab": {
          "base_uri": "https://localhost:8080/",
          "height": 206
        },
        "execution": {
          "iopub.execute_input": "2023-09-05T16:00:02.508398Z",
          "iopub.status.busy": "2023-09-05T16:00:02.507915Z",
          "iopub.status.idle": "2023-09-05T16:00:02.527523Z",
          "shell.execute_reply": "2023-09-05T16:00:02.526594Z",
          "shell.execute_reply.started": "2023-09-05T16:00:02.508363Z"
        },
        "id": "NPvecQwxVE4M",
        "outputId": "509b98a3-4201-45f3-8c0b-0c1304d70429",
        "trusted": true
      },
      "outputs": [],
      "source": [
        "df_water_quality_scaled.head()"
      ]
    },
    {
      "cell_type": "code",
      "execution_count": null,
      "metadata": {
        "execution": {
          "iopub.execute_input": "2023-09-05T16:00:06.413965Z",
          "iopub.status.busy": "2023-09-05T16:00:06.413579Z",
          "iopub.status.idle": "2023-09-05T16:00:06.420607Z",
          "shell.execute_reply": "2023-09-05T16:00:06.419310Z",
          "shell.execute_reply.started": "2023-09-05T16:00:06.413936Z"
        },
        "id": "dY35tGyuVE4M",
        "trusted": true
      },
      "outputs": [],
      "source": [
        "X = df_water_quality_scaled.drop('Potability', axis = 1)\n",
        "y = df_water_quality_scaled['Potability']"
      ]
    },
    {
      "cell_type": "code",
      "execution_count": null,
      "metadata": {
        "execution": {
          "iopub.execute_input": "2023-09-05T16:00:07.633243Z",
          "iopub.status.busy": "2023-09-05T16:00:07.632867Z",
          "iopub.status.idle": "2023-09-05T16:00:07.640356Z",
          "shell.execute_reply": "2023-09-05T16:00:07.639248Z",
          "shell.execute_reply.started": "2023-09-05T16:00:07.633216Z"
        },
        "id": "kG_DltYFVE4M",
        "trusted": true
      },
      "outputs": [],
      "source": [
        "X_train, X_test , y_train, y_test = train_test_split(X, y, test_size = 0.2)"
      ]
    },
    {
      "cell_type": "markdown",
      "metadata": {
        "id": "SsugaolsVE4N"
      },
      "source": [
        "# Modeling"
      ]
    },
    {
      "cell_type": "code",
      "execution_count": null,
      "metadata": {
        "execution": {
          "iopub.execute_input": "2023-09-05T16:25:25.416241Z",
          "iopub.status.busy": "2023-09-05T16:25:25.414792Z",
          "iopub.status.idle": "2023-09-05T16:25:25.433556Z",
          "shell.execute_reply": "2023-09-05T16:25:25.432083Z",
          "shell.execute_reply.started": "2023-09-05T16:25:25.416190Z"
        },
        "id": "vMyytAG9VE4T",
        "trusted": true
      },
      "outputs": [],
      "source": [
        "Ann_model = Sequential([\n",
        "    Dense(256, activation = 'relu'),\n",
        "    Dense(128, activation = 'relu'),\n",
        "    Dense(64, activation = 'relu'),\n",
        "    Dense(16, activation = 'relu'),\n",
        "    Dense(1, activation = 'sigmoid')\n",
        "])"
      ]
    },
    {
      "cell_type": "code",
      "execution_count": null,
      "metadata": {
        "execution": {
          "iopub.execute_input": "2023-09-05T16:25:25.597538Z",
          "iopub.status.busy": "2023-09-05T16:25:25.597102Z",
          "iopub.status.idle": "2023-09-05T16:25:25.614668Z",
          "shell.execute_reply": "2023-09-05T16:25:25.613437Z",
          "shell.execute_reply.started": "2023-09-05T16:25:25.597504Z"
        },
        "id": "OfEUjpeDVE4T",
        "trusted": true
      },
      "outputs": [],
      "source": [
        "Ann_model.compile(\n",
        "    optimizer = 'Adam',\n",
        "    loss = 'binary_crossentropy',\n",
        "    metrics = ['Accuracy']\n",
        ")"
      ]
    },
    {
      "cell_type": "code",
      "execution_count": null,
      "metadata": {
        "execution": {
          "iopub.execute_input": "2023-09-05T16:25:25.808568Z",
          "iopub.status.busy": "2023-09-05T16:25:25.807745Z",
          "iopub.status.idle": "2023-09-05T16:25:25.813879Z",
          "shell.execute_reply": "2023-09-05T16:25:25.812349Z",
          "shell.execute_reply.started": "2023-09-05T16:25:25.808515Z"
        },
        "id": "zhNfk9gWVE4U",
        "trusted": true
      },
      "outputs": [],
      "source": [
        "early_stopping = EarlyStopping(monitor = 'val_loss', patience = 7)"
      ]
    },
    {
      "cell_type": "code",
      "execution_count": null,
      "metadata": {
        "colab": {
          "base_uri": "https://localhost:8080/"
        },
        "execution": {
          "iopub.execute_input": "2023-09-05T16:25:26.353423Z",
          "iopub.status.busy": "2023-09-05T16:25:26.352105Z",
          "iopub.status.idle": "2023-09-05T16:25:35.563538Z",
          "shell.execute_reply": "2023-09-05T16:25:35.562410Z",
          "shell.execute_reply.started": "2023-09-05T16:25:26.353357Z"
        },
        "id": "cMdS0jA7VE4U",
        "outputId": "1f5c8ecb-feab-461f-fa37-6cea2311920a",
        "trusted": true
      },
      "outputs": [],
      "source": [
        "Ann_history = Ann_model.fit(X_train, y_train, validation_data = (X_test, y_test), epochs = 50, callbacks = [early_stopping])"
      ]
    },
    {
      "cell_type": "code",
      "execution_count": null,
      "metadata": {
        "colab": {
          "base_uri": "https://localhost:8080/",
          "height": 447
        },
        "execution": {
          "iopub.execute_input": "2023-09-05T16:26:16.211191Z",
          "iopub.status.busy": "2023-09-05T16:26:16.210666Z",
          "iopub.status.idle": "2023-09-05T16:26:16.527721Z",
          "shell.execute_reply": "2023-09-05T16:26:16.525728Z",
          "shell.execute_reply.started": "2023-09-05T16:26:16.211135Z"
        },
        "id": "y8wsdAJQVE4U",
        "outputId": "ef59bbb6-91e3-483b-edbf-6e4d8561d581",
        "trusted": true
      },
      "outputs": [],
      "source": [
        "plt.plot(Ann_history.history['loss'])\n",
        "plt.plot(Ann_history.history['val_loss'])"
      ]
    },
    {
      "cell_type": "code",
      "execution_count": null,
      "metadata": {
        "colab": {
          "base_uri": "https://localhost:8080/",
          "height": 447
        },
        "execution": {
          "iopub.execute_input": "2023-09-05T16:26:53.494559Z",
          "iopub.status.busy": "2023-09-05T16:26:53.493243Z",
          "iopub.status.idle": "2023-09-05T16:26:53.807735Z",
          "shell.execute_reply": "2023-09-05T16:26:53.806516Z",
          "shell.execute_reply.started": "2023-09-05T16:26:53.494492Z"
        },
        "id": "6f1L_l8GVE4U",
        "outputId": "fe1a1e27-5204-4dbc-a447-a5cbed7d1bd2",
        "trusted": true
      },
      "outputs": [],
      "source": [
        "plt.plot(Ann_history.history['Accuracy'])\n",
        "plt.plot(Ann_history.history['val_Accuracy'])"
      ]
    },
    {
      "cell_type": "code",
      "execution_count": null,
      "metadata": {
        "colab": {
          "base_uri": "https://localhost:8080/"
        },
        "execution": {
          "iopub.execute_input": "2023-09-05T16:34:42.777252Z",
          "iopub.status.busy": "2023-09-05T16:34:42.776714Z",
          "iopub.status.idle": "2023-09-05T16:34:42.915357Z",
          "shell.execute_reply": "2023-09-05T16:34:42.914400Z",
          "shell.execute_reply.started": "2023-09-05T16:34:42.777215Z"
        },
        "id": "0LmRiRszVE4U",
        "outputId": "ed10adf8-75eb-4e19-b18c-a76b1c852fd8",
        "trusted": true
      },
      "outputs": [],
      "source": [
        "Ann_model.evaluate(X_test, y_test)"
      ]
    }
  ],
  "metadata": {
    "colab": {
      "include_colab_link": true,
      "provenance": [],
      "toc_visible": true
    },
    "kernelspec": {
      "display_name": "Python 3",
      "language": "python",
      "name": "python3"
    },
    "language_info": {
      "codemirror_mode": {
        "name": "ipython",
        "version": 3
      },
      "file_extension": ".py",
      "mimetype": "text/x-python",
      "name": "python",
      "nbconvert_exporter": "python",
      "pygments_lexer": "ipython3",
      "version": "3.11.4"
    }
  },
  "nbformat": 4,
  "nbformat_minor": 0
}
